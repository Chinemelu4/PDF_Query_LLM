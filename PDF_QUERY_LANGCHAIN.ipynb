{
  "nbformat": 4,
  "nbformat_minor": 0,
  "metadata": {
    "colab": {
      "provenance": [],
      "authorship_tag": "ABX9TyN2cHuudG5Pg2JRik/UPEO5"
    },
    "kernelspec": {
      "name": "python3",
      "display_name": "Python 3"
    },
    "language_info": {
      "name": "python"
    }
  },
  "cells": [
    {
      "cell_type": "code",
      "execution_count": 3,
      "metadata": {
        "colab": {
          "base_uri": "https://localhost:8080/"
        },
        "id": "2AAxy9C6FikC",
        "outputId": "dee2a1bf-7413-4ffa-9fe1-6b1eb80bee3e"
      },
      "outputs": [
        {
          "output_type": "stream",
          "name": "stdout",
          "text": [
            "\u001b[2K     \u001b[90m━━━━━━━━━━━━━━━━━━━━━━━━━━━━━━━━━━━━━━━━\u001b[0m \u001b[32m38.0/38.0 MB\u001b[0m \u001b[31m29.1 MB/s\u001b[0m eta \u001b[36m0:00:00\u001b[0m\n",
            "\u001b[2K     \u001b[90m━━━━━━━━━━━━━━━━━━━━━━━━━━━━━━━━━━━━━━━━\u001b[0m \u001b[32m52.2/52.2 kB\u001b[0m \u001b[31m4.3 MB/s\u001b[0m eta \u001b[36m0:00:00\u001b[0m\n",
            "\u001b[2K     \u001b[90m━━━━━━━━━━━━━━━━━━━━━━━━━━━━━━━━━━━━━━━━\u001b[0m \u001b[32m3.1/3.1 MB\u001b[0m \u001b[31m52.3 MB/s\u001b[0m eta \u001b[36m0:00:00\u001b[0m\n",
            "\u001b[?25h"
          ]
        }
      ],
      "source": [
        "!pip install -q pyarrow==14.0.0  cohere cassio datasets openai langchain tiktoken PyPDF2"
      ]
    },
    {
      "cell_type": "code",
      "source": [
        "!pip install -q python-dotenv"
      ],
      "metadata": {
        "id": "jYO0KgKRHTUg"
      },
      "execution_count": 9,
      "outputs": []
    },
    {
      "cell_type": "code",
      "source": [
        "from langchain.vectorstores.cassandra import Cassandra\n",
        "from langchain.indexes.vectorstore import VectorStoreIndexWrapper\n",
        "from langchain.llms import OpenAI\n",
        "from langchain.embeddings import OpenAIEmbeddings\n",
        "from datasets import load_dataset\n",
        "from dotenv import load_dotenv\n",
        "import cassio\n",
        "import os\n",
        "load_dotenv()"
      ],
      "metadata": {
        "colab": {
          "base_uri": "https://localhost:8080/"
        },
        "id": "nZ05oGguGD_r",
        "outputId": "67e7aef9-b0b6-4476-ffd0-2025ff0c54da"
      },
      "execution_count": 11,
      "outputs": [
        {
          "output_type": "execute_result",
          "data": {
            "text/plain": [
              "True"
            ]
          },
          "metadata": {},
          "execution_count": 11
        }
      ]
    },
    {
      "cell_type": "code",
      "source": [
        "from PyPDF2 import PdfReader"
      ],
      "metadata": {
        "id": "kJb-F6j3HI46"
      },
      "execution_count": 7,
      "outputs": []
    },
    {
      "cell_type": "code",
      "source": [
        "ASTRA_DB_APPLICATION_TOKEN = < Your Astra DB Token>\n",
        "ASTRA_DB_ID = <Astra DB ID>\n",
        "OPENAI_API_KEY = < Your OpenAI key>"
      ],
      "metadata": {
        "id": "LXvBWS3hHwOv"
      },
      "execution_count": 20,
      "outputs": []
    },
    {
      "cell_type": "code",
      "source": [
        "pdf_reader = PdfReader('NGA54097 2.pdf')"
      ],
      "metadata": {
        "id": "ZuLsJKXyJ-2w"
      },
      "execution_count": 13,
      "outputs": []
    },
    {
      "cell_type": "code",
      "source": [
        "from typing_extensions import Concatenate\n",
        "\n",
        "raw_text = ''\n",
        "for i, page in enumerate(pdf_reader.pages):\n",
        "  content = page.extract_text()\n",
        "  if content:\n",
        "    raw_text += content"
      ],
      "metadata": {
        "id": "VZfU1fkkKRc1"
      },
      "execution_count": 14,
      "outputs": []
    },
    {
      "cell_type": "code",
      "source": [],
      "metadata": {
        "id": "baYTY5HDK-ES"
      },
      "execution_count": null,
      "outputs": []
    },
    {
      "cell_type": "code",
      "source": [
        "cassio.init(token=ASTRA_DB_APPLICATION_TOKEN, database_id=ASTRA_DB_ID)"
      ],
      "metadata": {
        "id": "8oHh5PS8LBcx"
      },
      "execution_count": null,
      "outputs": []
    },
    {
      "cell_type": "code",
      "source": [
        "llm = OpenAI(openai_api_key=OPENAI_API_KEY)\n",
        "embeddings = OpenAIEmbeddings(openai_api_key=OPENAI_API_KEY)"
      ],
      "metadata": {
        "id": "E6cxuuk_LbQn"
      },
      "execution_count": 22,
      "outputs": []
    },
    {
      "cell_type": "code",
      "source": [
        "astra_vector_store = Cassandra(\n",
        "    embedding=embeddings,\n",
        "    table_name=\"qa_mini\",\n",
        "    session=None,\n",
        "    keyspace=None\n",
        ")"
      ],
      "metadata": {
        "id": "TnNNfgHVMqFF"
      },
      "execution_count": 24,
      "outputs": []
    },
    {
      "cell_type": "code",
      "source": [
        "from langchain.text_splitter import CharacterTextSplitter\n",
        "\n",
        "text_splitter = CharacterTextSplitter(\n",
        "    separator= \"\\n\",\n",
        "    chunk_size= 800,\n",
        "    chunk_overlap=200,\n",
        "    length_function = len\n",
        ")\n",
        "\n",
        "texts = text_splitter.split_text(raw_text)"
      ],
      "metadata": {
        "id": "Xh9gIie8NtzM"
      },
      "execution_count": 27,
      "outputs": []
    },
    {
      "cell_type": "code",
      "source": [],
      "metadata": {
        "id": "MUP-X9qpObbo"
      },
      "execution_count": null,
      "outputs": []
    },
    {
      "cell_type": "code",
      "source": [
        "astra_vector_store.add_texts(texts)"
      ],
      "metadata": {
        "id": "rdxI4zvQOsoR"
      },
      "execution_count": null,
      "outputs": []
    },
    {
      "cell_type": "code",
      "source": [
        "astra_vector_index = VectorStoreIndexWrapper(vectorstore=astra_vector_store)"
      ],
      "metadata": {
        "id": "RKHWuA_YV_6a"
      },
      "execution_count": 37,
      "outputs": []
    },
    {
      "cell_type": "code",
      "source": [
        "question = input(\"Ask me any question?\")\n",
        "answer = astra_vector_index.query(question, llm=llm)\n",
        "print(f\"Answer:\\n {answer}\")"
      ],
      "metadata": {
        "colab": {
          "base_uri": "https://localhost:8080/"
        },
        "id": "ZMwXviRWUG88",
        "outputId": "8456b6cd-2ce9-4842-be52-a4e74192c6ec"
      },
      "execution_count": 39,
      "outputs": [
        {
          "name": "stdout",
          "output_type": "stream",
          "text": [
            "Ask me any question?What are the issues that can cause an annulment of election\n"
          ]
        },
        {
          "output_type": "stream",
          "name": "stderr",
          "text": [
            "WARNING:cassandra.protocol:Server warning: Top-K queries can only be run with consistency level ONE / LOCAL_ONE / NODE_LOCAL. Consistency level LOCAL_QUORUM was requested. Downgrading the consistency level to LOCAL_ONE.\n"
          ]
        },
        {
          "output_type": "stream",
          "name": "stdout",
          "text": [
            "Answer:\n",
            "  There are several issues that can cause an annulment of an election, including:\n",
            "\n",
            "- Being employed in the public service of the Federation or any State and not resigning at least 30 days before the election\n",
            "- Being a member of a secret society\n",
            "- Being indicted for embezzlement or fraud by a Judicial Commission of Inquiry or an Administrative Panel of Inquiry\n",
            "- Presenting a forged certificate to the Independent National Electoral Commission\n",
            "- Being adjudged to be a lunatic\n",
            "- Failing to have a majority of YES votes over NO votes and at least one-quarter of the votes in each of two-thirds of all local government areas in the State\n",
            "- Failing to have the highest number of votes and at least one-quarter of all votes in each of two-thirds of all local government areas in the State (in the case of multiple candidates)\n",
            "- Other candidates being nominated after the deadline set by the Independent National Electoral Commission\n",
            "- Violation of election laws and regulations, including bribery and corruption.\n",
            "\n",
            "\n",
            "\n",
            "\n",
            "\n"
          ]
        },
        {
          "output_type": "stream",
          "name": "stderr",
          "text": [
            "WARNING:cassandra.protocol:Server warning: Top-K queries can only be run with consistency level ONE / LOCAL_ONE / NODE_LOCAL. Consistency level LOCAL_QUORUM was requested. Downgrading the consistency level to LOCAL_ONE.\n"
          ]
        },
        {
          "output_type": "stream",
          "name": "stdout",
          "text": [
            "0.8906586497884152 (g)  being a person employed in the public service of t he Federation or of any Stat\n",
            "0.8905252409017161 where, being the only candidate nominated for the e lection-  \n",
            "(a)  he has a majorit\n",
            "0.8899130688686409 other candidates, the Independent National Electora l Commission shall extend the ti\n",
            "0.8893686563550165 The National Assembly shall make provisions in res pects -  \n",
            " persons who may apply \n"
          ]
        }
      ]
    },
    {
      "cell_type": "code",
      "source": [],
      "metadata": {
        "id": "ezSCd4QaUk5q"
      },
      "execution_count": null,
      "outputs": []
    }
  ]
}